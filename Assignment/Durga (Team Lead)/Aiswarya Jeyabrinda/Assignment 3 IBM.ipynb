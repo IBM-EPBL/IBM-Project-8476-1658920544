{
 "cells": [
  {
   "cell_type": "markdown",
   "id": "48387952",
   "metadata": {},
   "source": [
    "# AISWARYA JEYABRINDA S (811519104007)"
   ]
  },
  {
   "cell_type": "markdown",
   "id": "6282e6d8",
   "metadata": {},
   "source": [
    "###  Exercises "
   ]
  },
  {
   "cell_type": "markdown",
   "id": "12bc312e",
   "metadata": {},
   "source": [
    "#### Answer the questions or complete the tasks outlined in bold below, use the specific method described if applicable."
   ]
  },
  {
   "cell_type": "markdown",
   "id": "67f64b72",
   "metadata": {},
   "source": [
    "##### 1.What is 7 to the power of 4?"
   ]
  },
  {
   "cell_type": "code",
   "execution_count": 1,
   "id": "cb9a6a30",
   "metadata": {},
   "outputs": [
    {
     "data": {
      "text/plain": [
       "2401"
      ]
     },
     "execution_count": 1,
     "metadata": {},
     "output_type": "execute_result"
    }
   ],
   "source": [
    "7**4"
   ]
  },
  {
   "cell_type": "markdown",
   "id": "3cfe6be5",
   "metadata": {},
   "source": [
    "##### 2. Split this string: </br> s = \"Hi there Sam!\"</br>into a list."
   ]
  },
  {
   "cell_type": "code",
   "execution_count": 2,
   "id": "626b01b3",
   "metadata": {},
   "outputs": [
    {
     "data": {
      "text/plain": [
       "['Hi', 'there', 'Sam!']"
      ]
     },
     "execution_count": 2,
     "metadata": {},
     "output_type": "execute_result"
    }
   ],
   "source": [
    "s = \"Hi there Sam!\"\n",
    "s.split()"
   ]
  },
  {
   "cell_type": "markdown",
   "id": "99a6db50",
   "metadata": {},
   "source": [
    "##### 3. Given the variables:</br>planet = \"Earth\"</br>diameter = 12742</br>Use .format() to print the following string:</br>The diameter of Earth is 12742 kilometers."
   ]
  },
  {
   "cell_type": "code",
   "execution_count": 3,
   "id": "5475258c",
   "metadata": {},
   "outputs": [],
   "source": [
    "planet = \"Earth\"\n",
    "diameter = 12742"
   ]
  },
  {
   "cell_type": "code",
   "execution_count": 5,
   "id": "7514baaf",
   "metadata": {},
   "outputs": [
    {
     "data": {
      "text/plain": [
       "'The diameter of Earth is 12742 kilometers'"
      ]
     },
     "execution_count": 5,
     "metadata": {},
     "output_type": "execute_result"
    }
   ],
   "source": [
    "\"The diameter of {} is {} kilometers\".format(planet,diameter)"
   ]
  },
  {
   "cell_type": "markdown",
   "id": "d30c008e",
   "metadata": {},
   "source": [
    "##### Given this nested list, use indexing to grab the word \"hello\" </br> lst  = [1,2,[3,4],[5,[100,200,['hello']],23,11],1,7]"
   ]
  },
  {
   "cell_type": "code",
   "execution_count": 9,
   "id": "9b7071ea",
   "metadata": {},
   "outputs": [],
   "source": [
    "lst = [1,2,[3,4],[5,[100,200,['hello']],23,11],1,7]"
   ]
  },
  {
   "cell_type": "code",
   "execution_count": 19,
   "id": "371be741",
   "metadata": {},
   "outputs": [
    {
     "data": {
      "text/plain": [
       "'hello'"
      ]
     },
     "execution_count": 19,
     "metadata": {},
     "output_type": "execute_result"
    }
   ],
   "source": [
    "lst[3][1][2][0]"
   ]
  },
  {
   "cell_type": "markdown",
   "id": "28bbe0e7",
   "metadata": {},
   "source": [
    "##### Given this nest dictionary grab the word \"hello\". Be prepared, this will be annoying/tricky "
   ]
  },
  {
   "cell_type": "code",
   "execution_count": 20,
   "id": "5ff54a68",
   "metadata": {},
   "outputs": [],
   "source": [
    "d = {'k1':[1,2,3,{'tricky':['oh','man','inception',{'target':[1,2,3,'hello']}]}]}"
   ]
  },
  {
   "cell_type": "code",
   "execution_count": 21,
   "id": "0055d173",
   "metadata": {},
   "outputs": [
    {
     "data": {
      "text/plain": [
       "'hello'"
      ]
     },
     "execution_count": 21,
     "metadata": {},
     "output_type": "execute_result"
    }
   ],
   "source": [
    "d['k1'][3]['tricky'][3]['target'][3]"
   ]
  },
  {
   "cell_type": "markdown",
   "id": "e812a459",
   "metadata": {},
   "source": [
    "##### What is the main difference between a tuple and a list? "
   ]
  },
  {
   "cell_type": "markdown",
   "id": "87e1e832",
   "metadata": {},
   "source": [
    "TUPLE\n",
    "</br>\n",
    ".Immutable\n",
    "</br>\n",
    ".represent in round bracket()\n",
    "</br>\n",
    "\n",
    "LIST(Collection of Values)\n",
    "</br>\n",
    ".Mutable\n",
    "</br>\n",
    ".represent in square bracket[]"
   ]
  },
  {
   "cell_type": "markdown",
   "id": "7eabe6ac",
   "metadata": {},
   "source": [
    "##### Create a function that grabs the email website domain from a string in the form:</br>user@domain.com</br>So for example, passing \"user@domain.com\" would return: domain.com "
   ]
  },
  {
   "cell_type": "code",
   "execution_count": 22,
   "id": "2b4e18e6",
   "metadata": {},
   "outputs": [],
   "source": [
    "def domainGet(email):\n",
    "    return email.split('@')[-1]"
   ]
  },
  {
   "cell_type": "code",
   "execution_count": 23,
   "id": "8a4d069c",
   "metadata": {},
   "outputs": [
    {
     "data": {
      "text/plain": [
       "'domain.com'"
      ]
     },
     "execution_count": 23,
     "metadata": {},
     "output_type": "execute_result"
    }
   ],
   "source": [
    "domainGet('user@domain.com')"
   ]
  },
  {
   "cell_type": "markdown",
   "id": "73b573af",
   "metadata": {},
   "source": [
    "##### Create a basic function that returns True if the word 'dog' is contained in the input string. Don't worry about edge cases like a punctuation being attached to the word dog, but do account for capitalization."
   ]
  },
  {
   "cell_type": "code",
   "execution_count": 30,
   "id": "d2b51be6",
   "metadata": {},
   "outputs": [],
   "source": [
    "def findtheDog(st):\n",
    "    return 'dog' in st.lower().split()"
   ]
  },
  {
   "cell_type": "code",
   "execution_count": 31,
   "id": "d473a105",
   "metadata": {},
   "outputs": [
    {
     "data": {
      "text/plain": [
       "True"
      ]
     },
     "execution_count": 31,
     "metadata": {},
     "output_type": "execute_result"
    }
   ],
   "source": [
    "findtheDog('Is there a dog here?')"
   ]
  },
  {
   "cell_type": "markdown",
   "id": "2073cd62",
   "metadata": {},
   "source": [
    "##### Create a function that counts the number of times the word \"dog\" occurs in a string. Again ignore edge cases. "
   ]
  },
  {
   "cell_type": "code",
   "execution_count": 32,
   "id": "266354fa",
   "metadata": {},
   "outputs": [],
   "source": [
    "def Dogcount(st):\n",
    "    count = 0\n",
    "    for word in st.lower().split():\n",
    "        if word == 'dog':\n",
    "            count += 1\n",
    "    return count"
   ]
  },
  {
   "cell_type": "code",
   "execution_count": 33,
   "id": "e47f2082",
   "metadata": {},
   "outputs": [
    {
     "data": {
      "text/plain": [
       "2"
      ]
     },
     "execution_count": 33,
     "metadata": {},
     "output_type": "execute_result"
    }
   ],
   "source": [
    "Dogcount('This dog runs faster than the other dog dude!')"
   ]
  },
  {
   "cell_type": "markdown",
   "id": "b7929e23",
   "metadata": {},
   "source": [
    "##### Use lambda expressions and the filter() function to filter out words from a list that don't start with the letter 's'. For example:</br>seq = ['soup','dog','salad','cat','great']</br>should be filtered down to:</br>['soup','salad']"
   ]
  },
  {
   "cell_type": "code",
   "execution_count": 34,
   "id": "1f59eb1e",
   "metadata": {},
   "outputs": [],
   "source": [
    "seq = ['soup','dog','salad','cat','great']"
   ]
  },
  {
   "cell_type": "code",
   "execution_count": 35,
   "id": "e39481d5",
   "metadata": {},
   "outputs": [
    {
     "data": {
      "text/plain": [
       "['soup', 'salad']"
      ]
     },
     "execution_count": 35,
     "metadata": {},
     "output_type": "execute_result"
    }
   ],
   "source": [
    "list(filter(lambda word: word[0]=='s',seq))"
   ]
  },
  {
   "cell_type": "markdown",
   "id": "21772d98",
   "metadata": {},
   "source": [
    "##### You are driving a little too fast, and a police officer stops you. Write a function to return one of 3 possible results: \"No ticket\", \"Small ticket\", or \"Big Ticket\". If your speed is 60 or less, the result is \"No Ticket\". If speed is between 61 and 80 inclusive, the result is \"Small Ticket\". If speed is 81 or more, the result is \"Big Ticket\". Unless it is your birthday (encoded as a boolean value in the parameters of the function) -- on your birthday, your speed can be 5 higher in all cases."
   ]
  },
  {
   "cell_type": "code",
   "execution_count": 36,
   "id": "636b9c86",
   "metadata": {},
   "outputs": [],
   "source": [
    "def caught_speeding(speed, is_birthday):\n",
    "    \n",
    "    if is_birthday:\n",
    "        speeding = speed - 5\n",
    "    else:\n",
    "        speeding = speed\n",
    "    \n",
    "    if speeding > 80:\n",
    "        return 'Big Ticket'\n",
    "    elif speeding > 60:\n",
    "        return 'Small Ticket'\n",
    "    else:\n",
    "        return 'No Ticket'"
   ]
  },
  {
   "cell_type": "code",
   "execution_count": 37,
   "id": "c7950d1c",
   "metadata": {},
   "outputs": [
    {
     "data": {
      "text/plain": [
       "'Small Ticket'"
      ]
     },
     "execution_count": 37,
     "metadata": {},
     "output_type": "execute_result"
    }
   ],
   "source": [
    "caught_speeding(81,True)"
   ]
  },
  {
   "cell_type": "code",
   "execution_count": 38,
   "id": "ab520359",
   "metadata": {},
   "outputs": [
    {
     "data": {
      "text/plain": [
       "'Big Ticket'"
      ]
     },
     "execution_count": 38,
     "metadata": {},
     "output_type": "execute_result"
    }
   ],
   "source": [
    "caught_speeding(81,False)"
   ]
  },
  {
   "cell_type": "markdown",
   "id": "a13d85ec",
   "metadata": {},
   "source": [
    "##### Create an employee list with basic salary values(at least 5 values for 5 employees) and using a for loop retreive each employee salary and calculate total salary expenditure. "
   ]
  },
  {
   "cell_type": "code",
   "execution_count": 40,
   "id": "881579e5",
   "metadata": {},
   "outputs": [
    {
     "data": {
      "text/plain": [
       "5500.0"
      ]
     },
     "execution_count": 40,
     "metadata": {},
     "output_type": "execute_result"
    }
   ],
   "source": [
    "hoursWorked = 50\n",
    "wage = 100\n",
    "\n",
    "def weeklyPaid(hoursWorked, wage):\n",
    "    if hoursWorked > 40:\n",
    "        return 40 * wage + (hoursWorked - 40) * wage * 1.5\n",
    "    else:\n",
    "        return hoursWorked * wage\n",
    "\n",
    "weeklyPaid(hoursWorked, wage)"
   ]
  },
  {
   "cell_type": "markdown",
   "id": "dadee5d5",
   "metadata": {},
   "source": [
    "##### Create two dictionaries in Python:</br>First one to contain fields as Empid, Empname, Basicpay</br>Second dictionary to contain fields as DeptName, DeptId.</br>Combine both dictionaries "
   ]
  },
  {
   "cell_type": "code",
   "execution_count": 42,
   "id": "37a3320a",
   "metadata": {},
   "outputs": [],
   "source": [
    "dict1={'Empid':1,'Empname' :'Aiswarya','Basicpay' :100000}\n",
    "dict2={'DeptName' : 'CSE','DeptId'  : 207}"
   ]
  },
  {
   "cell_type": "code",
   "execution_count": 44,
   "id": "0665ec49",
   "metadata": {},
   "outputs": [],
   "source": [
    "dict1.update(dict2)"
   ]
  },
  {
   "cell_type": "code",
   "execution_count": 45,
   "id": "ba0b708e",
   "metadata": {},
   "outputs": [
    {
     "data": {
      "text/plain": [
       "{'Empid': 1,\n",
       " 'Empname': 'Aiswarya',\n",
       " 'Basicpay': 100000,\n",
       " 'DeptName': 'CSE',\n",
       " 'DeptId': 207}"
      ]
     },
     "execution_count": 45,
     "metadata": {},
     "output_type": "execute_result"
    }
   ],
   "source": [
    "dict1"
   ]
  }
 ],
 "metadata": {
  "kernelspec": {
   "display_name": "Python 3 (ipykernel)",
   "language": "python",
   "name": "python3"
  },
  "language_info": {
   "codemirror_mode": {
    "name": "ipython",
    "version": 3
   },
   "file_extension": ".py",
   "mimetype": "text/x-python",
   "name": "python",
   "nbconvert_exporter": "python",
   "pygments_lexer": "ipython3",
   "version": "3.9.7"
  }
 },
 "nbformat": 4,
 "nbformat_minor": 5
}
