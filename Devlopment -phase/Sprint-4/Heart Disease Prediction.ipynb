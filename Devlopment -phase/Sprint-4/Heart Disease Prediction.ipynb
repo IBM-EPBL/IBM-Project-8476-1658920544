{
 "cells": [
  {
   "cell_type": "markdown",
   "id": "260a2f0e",
   "metadata": {},
   "source": [
    "<html>\n",
    "<h1> Importing Necessary Libraries\n",
    "</h1>\n",
    "    </html>\n",
    "    "
   ]
  },
  {
   "cell_type": "code",
   "execution_count": 3,
   "id": "c1d1f3bc",
   "metadata": {},
   "outputs": [],
   "source": [
    "import pandas as pd\n",
    "import matplotlib.pyplot as plt\n",
    "import numpy as np\n",
    "import seaborn as sns\n"
   ]
  },
  {
   "cell_type": "markdown",
   "id": "8a2f8a99",
   "metadata": {},
   "source": [
    "\n",
    "<html>\n",
    "    <h1> Loading Data </h1>\n",
    "    </html>\n",
    "    \n"
   ]
  },
  {
   "cell_type": "code",
   "execution_count": 71,
   "id": "3281e3f5",
   "metadata": {},
   "outputs": [
    {
     "data": {
      "text/html": [
       "<div>\n",
       "<style scoped>\n",
       "    .dataframe tbody tr th:only-of-type {\n",
       "        vertical-align: middle;\n",
       "    }\n",
       "\n",
       "    .dataframe tbody tr th {\n",
       "        vertical-align: top;\n",
       "    }\n",
       "\n",
       "    .dataframe thead th {\n",
       "        text-align: right;\n",
       "    }\n",
       "</style>\n",
       "<table border=\"1\" class=\"dataframe\">\n",
       "  <thead>\n",
       "    <tr style=\"text-align: right;\">\n",
       "      <th></th>\n",
       "      <th>Age</th>\n",
       "      <th>Sex</th>\n",
       "      <th>Chest pain type</th>\n",
       "      <th>BP</th>\n",
       "      <th>Cholesterol</th>\n",
       "      <th>FBS over 120</th>\n",
       "      <th>EKG results</th>\n",
       "      <th>Max HR</th>\n",
       "      <th>Exercise angina</th>\n",
       "      <th>ST depression</th>\n",
       "      <th>Slope of ST</th>\n",
       "      <th>Number of vessels fluro</th>\n",
       "      <th>Thallium</th>\n",
       "      <th>Heart Disease</th>\n",
       "    </tr>\n",
       "  </thead>\n",
       "  <tbody>\n",
       "    <tr>\n",
       "      <th>0</th>\n",
       "      <td>70</td>\n",
       "      <td>1</td>\n",
       "      <td>4</td>\n",
       "      <td>130</td>\n",
       "      <td>322</td>\n",
       "      <td>0</td>\n",
       "      <td>2</td>\n",
       "      <td>109</td>\n",
       "      <td>0</td>\n",
       "      <td>2.4</td>\n",
       "      <td>2</td>\n",
       "      <td>3</td>\n",
       "      <td>3</td>\n",
       "      <td>Presence</td>\n",
       "    </tr>\n",
       "    <tr>\n",
       "      <th>1</th>\n",
       "      <td>67</td>\n",
       "      <td>0</td>\n",
       "      <td>3</td>\n",
       "      <td>115</td>\n",
       "      <td>564</td>\n",
       "      <td>0</td>\n",
       "      <td>2</td>\n",
       "      <td>160</td>\n",
       "      <td>0</td>\n",
       "      <td>1.6</td>\n",
       "      <td>2</td>\n",
       "      <td>0</td>\n",
       "      <td>7</td>\n",
       "      <td>Absence</td>\n",
       "    </tr>\n",
       "    <tr>\n",
       "      <th>2</th>\n",
       "      <td>57</td>\n",
       "      <td>1</td>\n",
       "      <td>2</td>\n",
       "      <td>124</td>\n",
       "      <td>261</td>\n",
       "      <td>0</td>\n",
       "      <td>0</td>\n",
       "      <td>141</td>\n",
       "      <td>0</td>\n",
       "      <td>0.3</td>\n",
       "      <td>1</td>\n",
       "      <td>0</td>\n",
       "      <td>7</td>\n",
       "      <td>Presence</td>\n",
       "    </tr>\n",
       "    <tr>\n",
       "      <th>3</th>\n",
       "      <td>64</td>\n",
       "      <td>1</td>\n",
       "      <td>4</td>\n",
       "      <td>128</td>\n",
       "      <td>263</td>\n",
       "      <td>0</td>\n",
       "      <td>0</td>\n",
       "      <td>105</td>\n",
       "      <td>1</td>\n",
       "      <td>0.2</td>\n",
       "      <td>2</td>\n",
       "      <td>1</td>\n",
       "      <td>7</td>\n",
       "      <td>Absence</td>\n",
       "    </tr>\n",
       "    <tr>\n",
       "      <th>4</th>\n",
       "      <td>74</td>\n",
       "      <td>0</td>\n",
       "      <td>2</td>\n",
       "      <td>120</td>\n",
       "      <td>269</td>\n",
       "      <td>0</td>\n",
       "      <td>2</td>\n",
       "      <td>121</td>\n",
       "      <td>1</td>\n",
       "      <td>0.2</td>\n",
       "      <td>1</td>\n",
       "      <td>1</td>\n",
       "      <td>3</td>\n",
       "      <td>Absence</td>\n",
       "    </tr>\n",
       "  </tbody>\n",
       "</table>\n",
       "</div>"
      ],
      "text/plain": [
       "   Age  Sex  Chest pain type   BP  Cholesterol  FBS over 120  EKG results  \\\n",
       "0   70    1                4  130          322             0            2   \n",
       "1   67    0                3  115          564             0            2   \n",
       "2   57    1                2  124          261             0            0   \n",
       "3   64    1                4  128          263             0            0   \n",
       "4   74    0                2  120          269             0            2   \n",
       "\n",
       "   Max HR  Exercise angina  ST depression  Slope of ST  \\\n",
       "0     109                0            2.4            2   \n",
       "1     160                0            1.6            2   \n",
       "2     141                0            0.3            1   \n",
       "3     105                1            0.2            2   \n",
       "4     121                1            0.2            1   \n",
       "\n",
       "   Number of vessels fluro  Thallium Heart Disease  \n",
       "0                        3         3      Presence  \n",
       "1                        0         7       Absence  \n",
       "2                        0         7      Presence  \n",
       "3                        1         7       Absence  \n",
       "4                        1         3       Absence  "
      ]
     },
     "execution_count": 71,
     "metadata": {},
     "output_type": "execute_result"
    }
   ],
   "source": [
    "data=pd.read_csv(\"C:/Users/admin/Downloads/Heart_Disease_Prediction (1).csv\")\n",
    "data.head()"
   ]
  },
  {
   "cell_type": "code",
   "execution_count": 5,
   "id": "d3760dac",
   "metadata": {},
   "outputs": [
    {
     "name": "stdout",
     "output_type": "stream",
     "text": [
      "<class 'pandas.core.frame.DataFrame'>\n",
      "RangeIndex: 270 entries, 0 to 269\n",
      "Data columns (total 14 columns):\n",
      " #   Column                   Non-Null Count  Dtype  \n",
      "---  ------                   --------------  -----  \n",
      " 0   Age                      270 non-null    int64  \n",
      " 1   Sex                      270 non-null    int64  \n",
      " 2   Chest pain type          270 non-null    int64  \n",
      " 3   BP                       270 non-null    int64  \n",
      " 4   Cholesterol              270 non-null    int64  \n",
      " 5   FBS over 120             270 non-null    int64  \n",
      " 6   EKG results              270 non-null    int64  \n",
      " 7   Max HR                   270 non-null    int64  \n",
      " 8   Exercise angina          270 non-null    int64  \n",
      " 9   ST depression            270 non-null    float64\n",
      " 10  Slope of ST              270 non-null    int64  \n",
      " 11  Number of vessels fluro  270 non-null    int64  \n",
      " 12  Thallium                 270 non-null    int64  \n",
      " 13  Heart Disease            270 non-null    object \n",
      "dtypes: float64(1), int64(12), object(1)\n",
      "memory usage: 29.7+ KB\n"
     ]
    }
   ],
   "source": [
    "data.info()"
   ]
  },
  {
   "cell_type": "markdown",
   "id": "585eebdc",
   "metadata": {},
   "source": [
    "<html>\n",
    "    <h1> Exploratory Data Analysis </h1>\n",
    "    </html>"
   ]
  },
  {
   "cell_type": "code",
   "execution_count": 7,
   "id": "094416f8",
   "metadata": {},
   "outputs": [
    {
     "data": {
      "text/plain": [
       "(270, 14)"
      ]
     },
     "execution_count": 7,
     "metadata": {},
     "output_type": "execute_result"
    }
   ],
   "source": [
    "data.shape"
   ]
  },
  {
   "cell_type": "code",
   "execution_count": 8,
   "id": "41c69d84",
   "metadata": {},
   "outputs": [
    {
     "data": {
      "text/html": [
       "<div>\n",
       "<style scoped>\n",
       "    .dataframe tbody tr th:only-of-type {\n",
       "        vertical-align: middle;\n",
       "    }\n",
       "\n",
       "    .dataframe tbody tr th {\n",
       "        vertical-align: top;\n",
       "    }\n",
       "\n",
       "    .dataframe thead th {\n",
       "        text-align: right;\n",
       "    }\n",
       "</style>\n",
       "<table border=\"1\" class=\"dataframe\">\n",
       "  <thead>\n",
       "    <tr style=\"text-align: right;\">\n",
       "      <th></th>\n",
       "      <th>Age</th>\n",
       "      <th>Sex</th>\n",
       "      <th>Chest pain type</th>\n",
       "      <th>BP</th>\n",
       "      <th>Cholesterol</th>\n",
       "      <th>FBS over 120</th>\n",
       "      <th>EKG results</th>\n",
       "      <th>Max HR</th>\n",
       "      <th>Exercise angina</th>\n",
       "      <th>ST depression</th>\n",
       "      <th>Slope of ST</th>\n",
       "      <th>Number of vessels fluro</th>\n",
       "      <th>Thallium</th>\n",
       "    </tr>\n",
       "  </thead>\n",
       "  <tbody>\n",
       "    <tr>\n",
       "      <th>count</th>\n",
       "      <td>270.000000</td>\n",
       "      <td>270.000000</td>\n",
       "      <td>270.000000</td>\n",
       "      <td>270.000000</td>\n",
       "      <td>270.000000</td>\n",
       "      <td>270.000000</td>\n",
       "      <td>270.000000</td>\n",
       "      <td>270.000000</td>\n",
       "      <td>270.000000</td>\n",
       "      <td>270.00000</td>\n",
       "      <td>270.000000</td>\n",
       "      <td>270.000000</td>\n",
       "      <td>270.000000</td>\n",
       "    </tr>\n",
       "    <tr>\n",
       "      <th>mean</th>\n",
       "      <td>54.433333</td>\n",
       "      <td>0.677778</td>\n",
       "      <td>3.174074</td>\n",
       "      <td>131.344444</td>\n",
       "      <td>249.659259</td>\n",
       "      <td>0.148148</td>\n",
       "      <td>1.022222</td>\n",
       "      <td>149.677778</td>\n",
       "      <td>0.329630</td>\n",
       "      <td>1.05000</td>\n",
       "      <td>1.585185</td>\n",
       "      <td>0.670370</td>\n",
       "      <td>4.696296</td>\n",
       "    </tr>\n",
       "    <tr>\n",
       "      <th>std</th>\n",
       "      <td>9.109067</td>\n",
       "      <td>0.468195</td>\n",
       "      <td>0.950090</td>\n",
       "      <td>17.861608</td>\n",
       "      <td>51.686237</td>\n",
       "      <td>0.355906</td>\n",
       "      <td>0.997891</td>\n",
       "      <td>23.165717</td>\n",
       "      <td>0.470952</td>\n",
       "      <td>1.14521</td>\n",
       "      <td>0.614390</td>\n",
       "      <td>0.943896</td>\n",
       "      <td>1.940659</td>\n",
       "    </tr>\n",
       "    <tr>\n",
       "      <th>min</th>\n",
       "      <td>29.000000</td>\n",
       "      <td>0.000000</td>\n",
       "      <td>1.000000</td>\n",
       "      <td>94.000000</td>\n",
       "      <td>126.000000</td>\n",
       "      <td>0.000000</td>\n",
       "      <td>0.000000</td>\n",
       "      <td>71.000000</td>\n",
       "      <td>0.000000</td>\n",
       "      <td>0.00000</td>\n",
       "      <td>1.000000</td>\n",
       "      <td>0.000000</td>\n",
       "      <td>3.000000</td>\n",
       "    </tr>\n",
       "    <tr>\n",
       "      <th>25%</th>\n",
       "      <td>48.000000</td>\n",
       "      <td>0.000000</td>\n",
       "      <td>3.000000</td>\n",
       "      <td>120.000000</td>\n",
       "      <td>213.000000</td>\n",
       "      <td>0.000000</td>\n",
       "      <td>0.000000</td>\n",
       "      <td>133.000000</td>\n",
       "      <td>0.000000</td>\n",
       "      <td>0.00000</td>\n",
       "      <td>1.000000</td>\n",
       "      <td>0.000000</td>\n",
       "      <td>3.000000</td>\n",
       "    </tr>\n",
       "    <tr>\n",
       "      <th>50%</th>\n",
       "      <td>55.000000</td>\n",
       "      <td>1.000000</td>\n",
       "      <td>3.000000</td>\n",
       "      <td>130.000000</td>\n",
       "      <td>245.000000</td>\n",
       "      <td>0.000000</td>\n",
       "      <td>2.000000</td>\n",
       "      <td>153.500000</td>\n",
       "      <td>0.000000</td>\n",
       "      <td>0.80000</td>\n",
       "      <td>2.000000</td>\n",
       "      <td>0.000000</td>\n",
       "      <td>3.000000</td>\n",
       "    </tr>\n",
       "    <tr>\n",
       "      <th>75%</th>\n",
       "      <td>61.000000</td>\n",
       "      <td>1.000000</td>\n",
       "      <td>4.000000</td>\n",
       "      <td>140.000000</td>\n",
       "      <td>280.000000</td>\n",
       "      <td>0.000000</td>\n",
       "      <td>2.000000</td>\n",
       "      <td>166.000000</td>\n",
       "      <td>1.000000</td>\n",
       "      <td>1.60000</td>\n",
       "      <td>2.000000</td>\n",
       "      <td>1.000000</td>\n",
       "      <td>7.000000</td>\n",
       "    </tr>\n",
       "    <tr>\n",
       "      <th>max</th>\n",
       "      <td>77.000000</td>\n",
       "      <td>1.000000</td>\n",
       "      <td>4.000000</td>\n",
       "      <td>200.000000</td>\n",
       "      <td>564.000000</td>\n",
       "      <td>1.000000</td>\n",
       "      <td>2.000000</td>\n",
       "      <td>202.000000</td>\n",
       "      <td>1.000000</td>\n",
       "      <td>6.20000</td>\n",
       "      <td>3.000000</td>\n",
       "      <td>3.000000</td>\n",
       "      <td>7.000000</td>\n",
       "    </tr>\n",
       "  </tbody>\n",
       "</table>\n",
       "</div>"
      ],
      "text/plain": [
       "              Age         Sex  Chest pain type          BP  Cholesterol  \\\n",
       "count  270.000000  270.000000       270.000000  270.000000   270.000000   \n",
       "mean    54.433333    0.677778         3.174074  131.344444   249.659259   \n",
       "std      9.109067    0.468195         0.950090   17.861608    51.686237   \n",
       "min     29.000000    0.000000         1.000000   94.000000   126.000000   \n",
       "25%     48.000000    0.000000         3.000000  120.000000   213.000000   \n",
       "50%     55.000000    1.000000         3.000000  130.000000   245.000000   \n",
       "75%     61.000000    1.000000         4.000000  140.000000   280.000000   \n",
       "max     77.000000    1.000000         4.000000  200.000000   564.000000   \n",
       "\n",
       "       FBS over 120  EKG results      Max HR  Exercise angina  ST depression  \\\n",
       "count    270.000000   270.000000  270.000000       270.000000      270.00000   \n",
       "mean       0.148148     1.022222  149.677778         0.329630        1.05000   \n",
       "std        0.355906     0.997891   23.165717         0.470952        1.14521   \n",
       "min        0.000000     0.000000   71.000000         0.000000        0.00000   \n",
       "25%        0.000000     0.000000  133.000000         0.000000        0.00000   \n",
       "50%        0.000000     2.000000  153.500000         0.000000        0.80000   \n",
       "75%        0.000000     2.000000  166.000000         1.000000        1.60000   \n",
       "max        1.000000     2.000000  202.000000         1.000000        6.20000   \n",
       "\n",
       "       Slope of ST  Number of vessels fluro    Thallium  \n",
       "count   270.000000               270.000000  270.000000  \n",
       "mean      1.585185                 0.670370    4.696296  \n",
       "std       0.614390                 0.943896    1.940659  \n",
       "min       1.000000                 0.000000    3.000000  \n",
       "25%       1.000000                 0.000000    3.000000  \n",
       "50%       2.000000                 0.000000    3.000000  \n",
       "75%       2.000000                 1.000000    7.000000  \n",
       "max       3.000000                 3.000000    7.000000  "
      ]
     },
     "execution_count": 8,
     "metadata": {},
     "output_type": "execute_result"
    }
   ],
   "source": [
    "data.describe()"
   ]
  },
  {
   "cell_type": "code",
   "execution_count": 9,
   "id": "a3aaaa81",
   "metadata": {},
   "outputs": [
    {
     "data": {
      "text/plain": [
       "Age                        0\n",
       "Sex                        0\n",
       "Chest pain type            0\n",
       "BP                         0\n",
       "Cholesterol                0\n",
       "FBS over 120               0\n",
       "EKG results                0\n",
       "Max HR                     0\n",
       "Exercise angina            0\n",
       "ST depression              0\n",
       "Slope of ST                0\n",
       "Number of vessels fluro    0\n",
       "Thallium                   0\n",
       "Heart Disease              0\n",
       "dtype: int64"
      ]
     },
     "execution_count": 9,
     "metadata": {},
     "output_type": "execute_result"
    }
   ],
   "source": [
    "data.isnull().sum()"
   ]
  },
  {
   "cell_type": "code",
   "execution_count": 10,
   "id": "db1fea89",
   "metadata": {},
   "outputs": [
    {
     "data": {
      "text/plain": [
       "Absence     150\n",
       "Presence    120\n",
       "Name: Heart Disease, dtype: int64"
      ]
     },
     "execution_count": 10,
     "metadata": {},
     "output_type": "execute_result"
    }
   ],
   "source": [
    "data['Heart Disease'].value_counts()"
   ]
  },
  {
   "cell_type": "markdown",
   "id": "550bc964",
   "metadata": {},
   "source": [
    "<html>\n",
    "    <h1> Correlation Matrix </h1>\n",
    "    </html>"
   ]
  },
  {
   "cell_type": "code",
   "execution_count": 37,
   "id": "e12ea523",
   "metadata": {},
   "outputs": [
    {
     "data": {
      "text/plain": [
       "<AxesSubplot:>"
      ]
     },
     "execution_count": 37,
     "metadata": {},
     "output_type": "execute_result"
    },
    {
     "data": {
      "image/png": "[encoded data removed]",
      "text/plain": [
       "<Figure size 1440x864 with 2 Axes>"
      ]
     },
     "metadata": {
      "needs_background": "light"
     },
     "output_type": "display_data"
    }
   ],
   "source": [
    "plt.figure(figsize=(20,12))\n",
    "sns.heatmap(data.corr(),annot=True,linewidth =2)"
   ]
  },
  {
   "cell_type": "markdown",
   "id": "1266870a",
   "metadata": {},
   "source": [
    "<html> \n",
    "    <h1> Data Visualization </h1>\n",
    "    </html>"
   ]
  },
  {
   "cell_type": "code",
   "execution_count": 22,
   "id": "a054e7d7",
   "metadata": {},
   "outputs": [
    {
     "name": "stderr",
     "output_type": "stream",
     "text": [
      "C:\\Users\\admin\\anaconda3\\lib\\site-packages\\seaborn\\_decorators.py:36: FutureWarning: Pass the following variable as a keyword arg: x. From version 0.12, the only valid positional argument will be `data`, and passing other arguments without an explicit keyword will result in an error or misinterpretation.\n",
      "  warnings.warn(\n"
     ]
    },
    {
     "data": {
      "text/plain": [
       "<AxesSubplot:xlabel='Heart Disease', ylabel='count'>"
      ]
     },
     "execution_count": 22,
     "metadata": {},
     "output_type": "execute_result"
    },
    {
     "data": {
      "image/png": "[encoded data removed]",
      "text/plain": [
       "<Figure size 432x288 with 1 Axes>"
      ]
     },
     "metadata": {
      "needs_background": "light"
     },
     "output_type": "display_data"
    }
   ],
   "source": [
    "sns.countplot(data['Heart Disease'])"
   ]
  },
  {
   "cell_type": "code",
   "execution_count": 40,
   "id": "dff42ee2",
   "metadata": {},
   "outputs": [
    {
     "data": {
      "text/plain": [
       "<AxesSubplot:>"
      ]
     },
     "execution_count": 40,
     "metadata": {},
     "output_type": "execute_result"
    },
    {
     "data": {
      "image/png": "[encoded data removed]",
      "text/plain": [
       "<Figure size 1800x864 with 1 Axes>"
      ]
     },
     "metadata": {
      "needs_background": "light"
     },
     "output_type": "display_data"
    }
   ],
   "source": [
    "plt.figure(figsize=(25,12))\n",
    "sns.barplot(x=data.Age.value_counts().index,y=data.Age.value_counts().values)"
   ]
  },
  {
   "cell_type": "code",
   "execution_count": 42,
   "id": "16d01b1f",
   "metadata": {},
   "outputs": [
    {
     "name": "stdout",
     "output_type": "stream",
     "text": [
      "Min Age : 29\n",
      "Max Age : 77\n",
      "Mean Age : 54.43333333333333\n"
     ]
    }
   ],
   "source": [
    "minAge=min(data.Age)\n",
    "maxAge=max(data.Age)\n",
    "meanAge=data.Age.mean()\n",
    "print('Min Age :',minAge)\n",
    "print('Max Age :',maxAge)\n",
    "print('Mean Age :',meanAge)"
   ]
  },
  {
   "cell_type": "code",
   "execution_count": 49,
   "id": "196a28d0",
   "metadata": {},
   "outputs": [
    {
     "data": {
      "text/plain": [
       "<AxesSubplot:>"
      ]
     },
     "execution_count": 49,
     "metadata": {},
     "output_type": "execute_result"
    },
    {
     "data": {
      "image/png": "[encoded data removed]",
      "text/plain": [
       "<Figure size 1080x576 with 1 Axes>"
      ]
     },
     "metadata": {
      "needs_background": "light"
     },
     "output_type": "display_data"
    }
   ],
   "source": [
    "Young = data[(data.Age>=29)&(data.Age<40)]\n",
    "Middle = data[(data.Age>=40)&(data.Age<55)]\n",
    "Elder = data[(data.Age>55)]\n",
    "plt.figure(figsize=(15,8))\n",
    "sns.barplot(x=['young ages','middle ages','elderly ages'],y=[len(Young),len(Middle),len(Elder)])"
   ]
  },
  {
   "cell_type": "code",
   "execution_count": 24,
   "id": "68de3ac4",
   "metadata": {},
   "outputs": [
    {
     "name": "stderr",
     "output_type": "stream",
     "text": [
      "C:\\Users\\admin\\anaconda3\\lib\\site-packages\\seaborn\\_decorators.py:36: FutureWarning: Pass the following variable as a keyword arg: x. From version 0.12, the only valid positional argument will be `data`, and passing other arguments without an explicit keyword will result in an error or misinterpretation.\n",
      "  warnings.warn(\n"
     ]
    },
    {
     "data": {
      "text/plain": [
       "<AxesSubplot:xlabel='Sex', ylabel='count'>"
      ]
     },
     "execution_count": 24,
     "metadata": {},
     "output_type": "execute_result"
    },
    {
     "data": {
      "image/png": "[encoded data removed]",
      "text/plain": [
       "<Figure size 432x288 with 1 Axes>"
      ]
     },
     "metadata": {
      "needs_background": "light"
     },
     "output_type": "display_data"
    }
   ],
   "source": [
    "sns.countplot(data.Sex)"
   ]
  },
  {
   "cell_type": "code",
   "execution_count": 53,
   "id": "5f6a7b61",
   "metadata": {},
   "outputs": [
    {
     "name": "stderr",
     "output_type": "stream",
     "text": [
      "C:\\Users\\admin\\anaconda3\\lib\\site-packages\\seaborn\\_decorators.py:36: FutureWarning: Pass the following variable as a keyword arg: x. From version 0.12, the only valid positional argument will be `data`, and passing other arguments without an explicit keyword will result in an error or misinterpretation.\n",
      "  warnings.warn(\n"
     ]
    },
    {
     "data": {
      "text/plain": [
       "<AxesSubplot:xlabel='Chest pain type', ylabel='count'>"
      ]
     },
     "execution_count": 53,
     "metadata": {},
     "output_type": "execute_result"
    },
    {
     "data": {
      "image/png": "[encoded data removed]",
      "text/plain": [
       "<Figure size 432x288 with 1 Axes>"
      ]
     },
     "metadata": {
      "needs_background": "light"
     },
     "output_type": "display_data"
    }
   ],
   "source": [
    "sns.countplot(data['Chest pain type'])"
   ]
  },
  {
   "cell_type": "code",
   "execution_count": 58,
   "id": "03debd6c",
   "metadata": {},
   "outputs": [
    {
     "name": "stderr",
     "output_type": "stream",
     "text": [
      "C:\\Users\\admin\\anaconda3\\lib\\site-packages\\seaborn\\_decorators.py:36: FutureWarning: Pass the following variable as a keyword arg: x. From version 0.12, the only valid positional argument will be `data`, and passing other arguments without an explicit keyword will result in an error or misinterpretation.\n",
      "  warnings.warn(\n"
     ]
    },
    {
     "data": {
      "text/plain": [
       "<AxesSubplot:xlabel='Thallium', ylabel='count'>"
      ]
     },
     "execution_count": 58,
     "metadata": {},
     "output_type": "execute_result"
    },
    {
     "data": {
      "image/png": "[encoded data removed]",
      "text/plain": [
       "<Figure size 432x288 with 1 Axes>"
      ]
     },
     "metadata": {
      "needs_background": "light"
     },
     "output_type": "display_data"
    }
   ],
   "source": [
    "sns.countplot(data['Thallium'])"
   ]
  },
  {
   "cell_type": "markdown",
   "id": "4614dd67",
   "metadata": {},
   "source": [
    "<html> \n",
    "    <h1> Feature Engineering </h1>\n",
    "    </html>"
   ]
  },
  {
   "cell_type": "code",
   "execution_count": 80,
   "id": "4b0f8835",
   "metadata": {},
   "outputs": [
    {
     "name": "stdout",
     "output_type": "stream",
     "text": [
      "--------------------\n",
      "Age : [70 67 57 64 74 65 56 59 60 63 53 44 61 71 46 40 48 43 47 54 51 58 66 37\n",
      " 50 42 62 49 52 45 41 76 39 35 55 34 38 69 68 77 29]\n",
      "--------------------\n",
      "Sex : [1 0]\n",
      "--------------------\n",
      "Chest pain type : [4 3 2 1]\n",
      "--------------------\n",
      "BP : [130 115 124 128 120 110 140 150 135 142 134 112 132 138 160 170 144 122\n",
      " 152 101 126 118 136 105 174 145 108 156 106 104  94 146 148 178 125 100\n",
      " 165 180 158 200 117 192 123 129 102 155 172]\n",
      "--------------------\n",
      "Cholesterol : [322 564 261 263 269 177 256 239 293 407 234 226 235 303 149 311 203 211\n",
      " 199 229 245 204 288 275 243 295 230 265 228 215 326 200 207 273 180 222\n",
      " 223 209 233 197 218 246 225 315 205 417 195 198 166 178 249 281 126 305\n",
      " 240 276 319 242 260 354 309 208 236 270 214 201 244 306 221 330 266 206\n",
      " 212 302 313 141 237 289 254 274 258 160 327 304 271 283 188 286 360 267\n",
      " 196 232 277 210 213 282 167 224 268 250 219 217 308 193 231 262 259 325\n",
      " 299 182 294 298 409 172 184 394 174 255 248 300 318 216 252 227 220 168\n",
      " 183 341 186 307 164 257 321 264 253 185 290 175 353 335 247 340 284 192]\n",
      "--------------------\n",
      "FBS over 120 : [0 1]\n",
      "--------------------\n",
      "EKG results : [2 0 1]\n",
      "--------------------\n",
      "Max HR : [109 160 141 105 121 140 142 170 154 161 111 180 145 159 125 120 155 144\n",
      " 178 129 181 143 139 152 157 165 130 150 138 126 186 163 179 156 134 177\n",
      " 114 184 175 168  96 103 173 169 171 112 149 116 147 148 128 164 108 118\n",
      " 151 133 162  71 124 166 117 153  88  99 158 132 172 192 182 195  95 167\n",
      " 122 174 131 146 115 106 194 187 202 127  97 136 190 185 113 188 123 137]\n",
      "--------------------\n",
      "Exercise angina : [0 1]\n",
      "--------------------\n",
      "ST depression : [2.4 1.6 0.3 0.2 0.4 0.6 1.2 4.  0.5 0.  2.6 1.8 3.1 1.4 0.1 2.5 2.3 3.4\n",
      " 0.9 1.9 2.2 0.8 1.  3.6 1.1 3.  2.  1.5 4.2 3.2 0.7 5.6 3.8 2.1 2.9 2.8\n",
      " 3.5 6.2 1.3]\n",
      "--------------------\n",
      "Slope of ST : [2 1 3]\n",
      "--------------------\n",
      "Number of vessels fluro : [3 0 1 2]\n",
      "--------------------\n",
      "Thallium : [3 7 6]\n",
      "--------------------\n",
      "Heart Disease : ['Presence' 'Absence']\n"
     ]
    }
   ],
   "source": [
    "categorical_val = []\n",
    "continous_val = []\n",
    "for column in data.columns:\n",
    "    print(\"--------------------\")\n",
    "    print(f\"{column} : {data[column].unique()}\")\n",
    "    if len(data[column].unique()) <= 10:\n",
    "        categorical_val.append(column)\n",
    "    else:\n",
    "        continous_val.append(column)"
   ]
  },
  {
   "cell_type": "code",
   "execution_count": 81,
   "id": "1ed6c034",
   "metadata": {},
   "outputs": [
    {
     "data": {
      "text/html": [
       "<div>\n",
       "<style scoped>\n",
       "    .dataframe tbody tr th:only-of-type {\n",
       "        vertical-align: middle;\n",
       "    }\n",
       "\n",
       "    .dataframe tbody tr th {\n",
       "        vertical-align: top;\n",
       "    }\n",
       "\n",
       "    .dataframe thead th {\n",
       "        text-align: right;\n",
       "    }\n",
       "</style>\n",
       "<table border=\"1\" class=\"dataframe\">\n",
       "  <thead>\n",
       "    <tr style=\"text-align: right;\">\n",
       "      <th></th>\n",
       "      <th>Age</th>\n",
       "      <th>BP</th>\n",
       "      <th>Cholesterol</th>\n",
       "      <th>Max HR</th>\n",
       "      <th>ST depression</th>\n",
       "      <th>Heart Disease</th>\n",
       "      <th>Sex_0</th>\n",
       "      <th>Sex_1</th>\n",
       "      <th>Chest pain type_1</th>\n",
       "      <th>Chest pain type_2</th>\n",
       "      <th>...</th>\n",
       "      <th>Slope of ST_1</th>\n",
       "      <th>Slope of ST_2</th>\n",
       "      <th>Slope of ST_3</th>\n",
       "      <th>Number of vessels fluro_0</th>\n",
       "      <th>Number of vessels fluro_1</th>\n",
       "      <th>Number of vessels fluro_2</th>\n",
       "      <th>Number of vessels fluro_3</th>\n",
       "      <th>Thallium_3</th>\n",
       "      <th>Thallium_6</th>\n",
       "      <th>Thallium_7</th>\n",
       "    </tr>\n",
       "  </thead>\n",
       "  <tbody>\n",
       "    <tr>\n",
       "      <th>0</th>\n",
       "      <td>70</td>\n",
       "      <td>130</td>\n",
       "      <td>322</td>\n",
       "      <td>109</td>\n",
       "      <td>2.4</td>\n",
       "      <td>Presence</td>\n",
       "      <td>0</td>\n",
       "      <td>1</td>\n",
       "      <td>0</td>\n",
       "      <td>0</td>\n",
       "      <td>...</td>\n",
       "      <td>0</td>\n",
       "      <td>1</td>\n",
       "      <td>0</td>\n",
       "      <td>0</td>\n",
       "      <td>0</td>\n",
       "      <td>0</td>\n",
       "      <td>1</td>\n",
       "      <td>1</td>\n",
       "      <td>0</td>\n",
       "      <td>0</td>\n",
       "    </tr>\n",
       "    <tr>\n",
       "      <th>1</th>\n",
       "      <td>67</td>\n",
       "      <td>115</td>\n",
       "      <td>564</td>\n",
       "      <td>160</td>\n",
       "      <td>1.6</td>\n",
       "      <td>Absence</td>\n",
       "      <td>1</td>\n",
       "      <td>0</td>\n",
       "      <td>0</td>\n",
       "      <td>0</td>\n",
       "      <td>...</td>\n",
       "      <td>0</td>\n",
       "      <td>1</td>\n",
       "      <td>0</td>\n",
       "      <td>1</td>\n",
       "      <td>0</td>\n",
       "      <td>0</td>\n",
       "      <td>0</td>\n",
       "      <td>0</td>\n",
       "      <td>0</td>\n",
       "      <td>1</td>\n",
       "    </tr>\n",
       "    <tr>\n",
       "      <th>2</th>\n",
       "      <td>57</td>\n",
       "      <td>124</td>\n",
       "      <td>261</td>\n",
       "      <td>141</td>\n",
       "      <td>0.3</td>\n",
       "      <td>Presence</td>\n",
       "      <td>0</td>\n",
       "      <td>1</td>\n",
       "      <td>0</td>\n",
       "      <td>1</td>\n",
       "      <td>...</td>\n",
       "      <td>1</td>\n",
       "      <td>0</td>\n",
       "      <td>0</td>\n",
       "      <td>1</td>\n",
       "      <td>0</td>\n",
       "      <td>0</td>\n",
       "      <td>0</td>\n",
       "      <td>0</td>\n",
       "      <td>0</td>\n",
       "      <td>1</td>\n",
       "    </tr>\n",
       "    <tr>\n",
       "      <th>3</th>\n",
       "      <td>64</td>\n",
       "      <td>128</td>\n",
       "      <td>263</td>\n",
       "      <td>105</td>\n",
       "      <td>0.2</td>\n",
       "      <td>Absence</td>\n",
       "      <td>0</td>\n",
       "      <td>1</td>\n",
       "      <td>0</td>\n",
       "      <td>0</td>\n",
       "      <td>...</td>\n",
       "      <td>0</td>\n",
       "      <td>1</td>\n",
       "      <td>0</td>\n",
       "      <td>0</td>\n",
       "      <td>1</td>\n",
       "      <td>0</td>\n",
       "      <td>0</td>\n",
       "      <td>0</td>\n",
       "      <td>0</td>\n",
       "      <td>1</td>\n",
       "    </tr>\n",
       "    <tr>\n",
       "      <th>4</th>\n",
       "      <td>74</td>\n",
       "      <td>120</td>\n",
       "      <td>269</td>\n",
       "      <td>121</td>\n",
       "      <td>0.2</td>\n",
       "      <td>Absence</td>\n",
       "      <td>1</td>\n",
       "      <td>0</td>\n",
       "      <td>0</td>\n",
       "      <td>1</td>\n",
       "      <td>...</td>\n",
       "      <td>1</td>\n",
       "      <td>0</td>\n",
       "      <td>0</td>\n",
       "      <td>0</td>\n",
       "      <td>1</td>\n",
       "      <td>0</td>\n",
       "      <td>0</td>\n",
       "      <td>1</td>\n",
       "      <td>0</td>\n",
       "      <td>0</td>\n",
       "    </tr>\n",
       "  </tbody>\n",
       "</table>\n",
       "<p>5 rows × 29 columns</p>\n",
       "</div>"
      ],
      "text/plain": [
       "   Age   BP  Cholesterol  Max HR  ST depression Heart Disease  Sex_0  Sex_1  \\\n",
       "0   70  130          322     109            2.4      Presence      0      1   \n",
       "1   67  115          564     160            1.6       Absence      1      0   \n",
       "2   57  124          261     141            0.3      Presence      0      1   \n",
       "3   64  128          263     105            0.2       Absence      0      1   \n",
       "4   74  120          269     121            0.2       Absence      1      0   \n",
       "\n",
       "   Chest pain type_1  Chest pain type_2  ...  Slope of ST_1  Slope of ST_2  \\\n",
       "0                  0                  0  ...              0              1   \n",
       "1                  0                  0  ...              0              1   \n",
       "2                  0                  1  ...              1              0   \n",
       "3                  0                  0  ...              0              1   \n",
       "4                  0                  1  ...              1              0   \n",
       "\n",
       "   Slope of ST_3  Number of vessels fluro_0  Number of vessels fluro_1  \\\n",
       "0              0                          0                          0   \n",
       "1              0                          1                          0   \n",
       "2              0                          1                          0   \n",
       "3              0                          0                          1   \n",
       "4              0                          0                          1   \n",
       "\n",
       "   Number of vessels fluro_2  Number of vessels fluro_3  Thallium_3  \\\n",
       "0                          0                          1           1   \n",
       "1                          0                          0           0   \n",
       "2                          0                          0           0   \n",
       "3                          0                          0           0   \n",
       "4                          0                          0           1   \n",
       "\n",
       "   Thallium_6  Thallium_7  \n",
       "0           0           0  \n",
       "1           0           1  \n",
       "2           0           1  \n",
       "3           0           1  \n",
       "4           0           0  \n",
       "\n",
       "[5 rows x 29 columns]"
      ]
     },
     "execution_count": 81,
     "metadata": {},
     "output_type": "execute_result"
    }
   ],
   "source": [
    "categorical_val.remove('Heart Disease')\n",
    "dummy = pd.get_dummies(data, columns = categorical_val)\n",
    "dummy.head()"
   ]
  },
  {
   "cell_type": "markdown",
   "id": "9fd6ded6",
   "metadata": {},
   "source": [
    "<html>\n",
    "    <h1> Standard Scaler </h1>\n",
    "    </html>"
   ]
  },
  {
   "cell_type": "code",
   "execution_count": 77,
   "id": "fa54deb9",
   "metadata": {},
   "outputs": [],
   "source": [
    "from sklearn.preprocessing import StandardScaler\n",
    "sc=StandardScaler()"
   ]
  },
  {
   "cell_type": "code",
   "execution_count": 83,
   "id": "3985d8b2",
   "metadata": {},
   "outputs": [
    {
     "data": {
      "text/html": [
       "<div>\n",
       "<style scoped>\n",
       "    .dataframe tbody tr th:only-of-type {\n",
       "        vertical-align: middle;\n",
       "    }\n",
       "\n",
       "    .dataframe tbody tr th {\n",
       "        vertical-align: top;\n",
       "    }\n",
       "\n",
       "    .dataframe thead th {\n",
       "        text-align: right;\n",
       "    }\n",
       "</style>\n",
       "<table border=\"1\" class=\"dataframe\">\n",
       "  <thead>\n",
       "    <tr style=\"text-align: right;\">\n",
       "      <th></th>\n",
       "      <th>Age</th>\n",
       "      <th>BP</th>\n",
       "      <th>Cholesterol</th>\n",
       "      <th>Max HR</th>\n",
       "      <th>ST depression</th>\n",
       "      <th>Heart Disease</th>\n",
       "      <th>Sex_0</th>\n",
       "      <th>Sex_1</th>\n",
       "      <th>Chest pain type_1</th>\n",
       "      <th>Chest pain type_2</th>\n",
       "      <th>...</th>\n",
       "      <th>Slope of ST_1</th>\n",
       "      <th>Slope of ST_2</th>\n",
       "      <th>Slope of ST_3</th>\n",
       "      <th>Number of vessels fluro_0</th>\n",
       "      <th>Number of vessels fluro_1</th>\n",
       "      <th>Number of vessels fluro_2</th>\n",
       "      <th>Number of vessels fluro_3</th>\n",
       "      <th>Thallium_3</th>\n",
       "      <th>Thallium_6</th>\n",
       "      <th>Thallium_7</th>\n",
       "    </tr>\n",
       "  </thead>\n",
       "  <tbody>\n",
       "    <tr>\n",
       "      <th>0</th>\n",
       "      <td>1.712094</td>\n",
       "      <td>-0.075410</td>\n",
       "      <td>1.402212</td>\n",
       "      <td>-1.759208</td>\n",
       "      <td>1.181012</td>\n",
       "      <td>Presence</td>\n",
       "      <td>0</td>\n",
       "      <td>1</td>\n",
       "      <td>0</td>\n",
       "      <td>0</td>\n",
       "      <td>...</td>\n",
       "      <td>0</td>\n",
       "      <td>1</td>\n",
       "      <td>0</td>\n",
       "      <td>0</td>\n",
       "      <td>0</td>\n",
       "      <td>0</td>\n",
       "      <td>1</td>\n",
       "      <td>1</td>\n",
       "      <td>0</td>\n",
       "      <td>0</td>\n",
       "    </tr>\n",
       "    <tr>\n",
       "      <th>1</th>\n",
       "      <td>1.382140</td>\n",
       "      <td>-0.916759</td>\n",
       "      <td>6.093004</td>\n",
       "      <td>0.446409</td>\n",
       "      <td>0.481153</td>\n",
       "      <td>Absence</td>\n",
       "      <td>1</td>\n",
       "      <td>0</td>\n",
       "      <td>0</td>\n",
       "      <td>0</td>\n",
       "      <td>...</td>\n",
       "      <td>0</td>\n",
       "      <td>1</td>\n",
       "      <td>0</td>\n",
       "      <td>1</td>\n",
       "      <td>0</td>\n",
       "      <td>0</td>\n",
       "      <td>0</td>\n",
       "      <td>0</td>\n",
       "      <td>0</td>\n",
       "      <td>1</td>\n",
       "    </tr>\n",
       "    <tr>\n",
       "      <th>2</th>\n",
       "      <td>0.282294</td>\n",
       "      <td>-0.411950</td>\n",
       "      <td>0.219823</td>\n",
       "      <td>-0.375291</td>\n",
       "      <td>-0.656118</td>\n",
       "      <td>Presence</td>\n",
       "      <td>0</td>\n",
       "      <td>1</td>\n",
       "      <td>0</td>\n",
       "      <td>1</td>\n",
       "      <td>...</td>\n",
       "      <td>1</td>\n",
       "      <td>0</td>\n",
       "      <td>0</td>\n",
       "      <td>1</td>\n",
       "      <td>0</td>\n",
       "      <td>0</td>\n",
       "      <td>0</td>\n",
       "      <td>0</td>\n",
       "      <td>0</td>\n",
       "      <td>1</td>\n",
       "    </tr>\n",
       "    <tr>\n",
       "      <th>3</th>\n",
       "      <td>1.052186</td>\n",
       "      <td>-0.187590</td>\n",
       "      <td>0.258589</td>\n",
       "      <td>-1.932198</td>\n",
       "      <td>-0.743600</td>\n",
       "      <td>Absence</td>\n",
       "      <td>0</td>\n",
       "      <td>1</td>\n",
       "      <td>0</td>\n",
       "      <td>0</td>\n",
       "      <td>...</td>\n",
       "      <td>0</td>\n",
       "      <td>1</td>\n",
       "      <td>0</td>\n",
       "      <td>0</td>\n",
       "      <td>1</td>\n",
       "      <td>0</td>\n",
       "      <td>0</td>\n",
       "      <td>0</td>\n",
       "      <td>0</td>\n",
       "      <td>1</td>\n",
       "    </tr>\n",
       "    <tr>\n",
       "      <th>4</th>\n",
       "      <td>2.152032</td>\n",
       "      <td>-0.636310</td>\n",
       "      <td>0.374890</td>\n",
       "      <td>-1.240239</td>\n",
       "      <td>-0.743600</td>\n",
       "      <td>Absence</td>\n",
       "      <td>1</td>\n",
       "      <td>0</td>\n",
       "      <td>0</td>\n",
       "      <td>1</td>\n",
       "      <td>...</td>\n",
       "      <td>1</td>\n",
       "      <td>0</td>\n",
       "      <td>0</td>\n",
       "      <td>0</td>\n",
       "      <td>1</td>\n",
       "      <td>0</td>\n",
       "      <td>0</td>\n",
       "      <td>1</td>\n",
       "      <td>0</td>\n",
       "      <td>0</td>\n",
       "    </tr>\n",
       "  </tbody>\n",
       "</table>\n",
       "<p>5 rows × 29 columns</p>\n",
       "</div>"
      ],
      "text/plain": [
       "        Age        BP  Cholesterol    Max HR  ST depression Heart Disease  \\\n",
       "0  1.712094 -0.075410     1.402212 -1.759208       1.181012      Presence   \n",
       "1  1.382140 -0.916759     6.093004  0.446409       0.481153       Absence   \n",
       "2  0.282294 -0.411950     0.219823 -0.375291      -0.656118      Presence   \n",
       "3  1.052186 -0.187590     0.258589 -1.932198      -0.743600       Absence   \n",
       "4  2.152032 -0.636310     0.374890 -1.240239      -0.743600       Absence   \n",
       "\n",
       "   Sex_0  Sex_1  Chest pain type_1  Chest pain type_2  ...  Slope of ST_1  \\\n",
       "0      0      1                  0                  0  ...              0   \n",
       "1      1      0                  0                  0  ...              0   \n",
       "2      0      1                  0                  1  ...              1   \n",
       "3      0      1                  0                  0  ...              0   \n",
       "4      1      0                  0                  1  ...              1   \n",
       "\n",
       "   Slope of ST_2  Slope of ST_3  Number of vessels fluro_0  \\\n",
       "0              1              0                          0   \n",
       "1              1              0                          1   \n",
       "2              0              0                          1   \n",
       "3              1              0                          0   \n",
       "4              0              0                          0   \n",
       "\n",
       "   Number of vessels fluro_1  Number of vessels fluro_2  \\\n",
       "0                          0                          0   \n",
       "1                          0                          0   \n",
       "2                          0                          0   \n",
       "3                          1                          0   \n",
       "4                          1                          0   \n",
       "\n",
       "   Number of vessels fluro_3  Thallium_3  Thallium_6  Thallium_7  \n",
       "0                          1           1           0           0  \n",
       "1                          0           0           0           1  \n",
       "2                          0           0           0           1  \n",
       "3                          0           0           0           1  \n",
       "4                          0           1           0           0  \n",
       "\n",
       "[5 rows x 29 columns]"
      ]
     },
     "execution_count": 83,
     "metadata": {},
     "output_type": "execute_result"
    }
   ],
   "source": [
    "scaled_data = ['Age', 'BP','Cholesterol','Max HR','ST depression']\n",
    "dummy[scaled_data]=sc.fit_transform(dummy[scaled_data])\n",
    "dummy.head()"
   ]
  },
  {
   "cell_type": "markdown",
   "id": "213ad036",
   "metadata": {},
   "source": [
    "<html>\n",
    "    <h1> Modeling </h1>\n",
    "    </html>"
   ]
  },
  {
   "cell_type": "code",
   "execution_count": 89,
   "id": "5d53c734",
   "metadata": {},
   "outputs": [],
   "source": [
    "x=dummy.drop(['Heart Disease'],axis=1)\n",
    "y=dummy['Heart Disease']"
   ]
  },
  {
   "cell_type": "code",
   "execution_count": 96,
   "id": "678c2e55",
   "metadata": {},
   "outputs": [],
   "source": [
    "from sklearn.model_selection import train_test_split\n",
    "train_x, test_x, train_y, test_y = train_test_split(x, y, test_size=0.3, random_state=42)"
   ]
  },
  {
   "cell_type": "code",
   "execution_count": 97,
   "id": "8d2020bd",
   "metadata": {},
   "outputs": [],
   "source": [
    "from sklearn.linear_model import  LogisticRegression\n",
    "model=LogisticRegression()"
   ]
  },
  {
   "cell_type": "code",
   "execution_count": 98,
   "id": "7c3cfac1",
   "metadata": {},
   "outputs": [
    {
     "data": {
      "text/plain": [
       "LogisticRegression()"
      ]
     },
     "execution_count": 98,
     "metadata": {},
     "output_type": "execute_result"
    }
   ],
   "source": [
    "model.fit(train_x,train_y)"
   ]
  },
  {
   "cell_type": "code",
   "execution_count": 99,
   "id": "5d31d2ce",
   "metadata": {},
   "outputs": [
    {
     "data": {
      "text/plain": [
       "array(['Presence', 'Absence', 'Absence', 'Absence', 'Absence', 'Presence',\n",
       "       'Absence', 'Absence', 'Absence', 'Absence', 'Absence', 'Presence',\n",
       "       'Presence', 'Presence', 'Absence', 'Absence', 'Absence', 'Absence',\n",
       "       'Presence', 'Absence', 'Presence', 'Absence', 'Absence', 'Absence',\n",
       "       'Absence', 'Presence', 'Presence', 'Presence', 'Absence',\n",
       "       'Absence', 'Absence', 'Absence', 'Presence', 'Absence', 'Absence',\n",
       "       'Presence', 'Presence', 'Absence', 'Presence', 'Absence',\n",
       "       'Absence', 'Absence', 'Absence', 'Absence', 'Absence', 'Absence',\n",
       "       'Absence', 'Presence', 'Presence', 'Absence', 'Absence', 'Absence',\n",
       "       'Absence', 'Presence', 'Absence', 'Presence', 'Absence',\n",
       "       'Presence', 'Absence', 'Absence', 'Presence', 'Presence',\n",
       "       'Presence', 'Presence', 'Presence', 'Absence', 'Absence',\n",
       "       'Absence', 'Absence', 'Absence', 'Absence', 'Absence', 'Absence',\n",
       "       'Absence', 'Absence', 'Absence', 'Absence', 'Presence', 'Absence',\n",
       "       'Absence', 'Absence'], dtype=object)"
      ]
     },
     "execution_count": 99,
     "metadata": {},
     "output_type": "execute_result"
    }
   ],
   "source": [
    "pred_y=model.predict(test_x)\n",
    "pred_y"
   ]
  },
  {
   "cell_type": "code",
   "execution_count": 100,
   "id": "51b0ecb6",
   "metadata": {},
   "outputs": [
    {
     "data": {
      "text/plain": [
       "0.8395061728395061"
      ]
     },
     "execution_count": 100,
     "metadata": {},
     "output_type": "execute_result"
    }
   ],
   "source": [
    "model.score(test_x,test_y)"
   ]
  },
  {
   "cell_type": "markdown",
   "id": "139aef92",
   "metadata": {},
   "source": [
    "<html>\n",
    "    <h1> Confusion Matrix </h1>\n",
    "    </html>"
   ]
  },
  {
   "cell_type": "code",
   "execution_count": 111,
   "id": "b45e4506",
   "metadata": {},
   "outputs": [],
   "source": [
    "from sklearn.metrics import confusion_matrix"
   ]
  },
  {
   "cell_type": "code",
   "execution_count": 112,
   "id": "ed657f7f",
   "metadata": {},
   "outputs": [
    {
     "data": {
      "text/plain": [
       "array([[46,  3],\n",
       "       [10, 22]], dtype=int64)"
      ]
     },
     "execution_count": 112,
     "metadata": {},
     "output_type": "execute_result"
    }
   ],
   "source": [
    "confusion_matrix(test_y,pred_y)"
   ]
  },
  {
   "cell_type": "code",
   "execution_count": null,
   "id": "f5d078ab",
   "metadata": {},
   "outputs": [],
   "source": []
  }
 ],
 "metadata": {
  "kernelspec": {
   "display_name": "Python 3 (ipykernel)",
   "language": "python",
   "name": "python3"
  },
  "language_info": {
   "codemirror_mode": {
    "name": "ipython",
    "version": 3
   },
   "file_extension": ".py",
   "mimetype": "text/x-python",
   "name": "python",
   "nbconvert_exporter": "python",
   "pygments_lexer": "ipython3",
   "version": "3.9.7"
  }
 },
 "nbformat": 4,
 "nbformat_minor": 5
}
